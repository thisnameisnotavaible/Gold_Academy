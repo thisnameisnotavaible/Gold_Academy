{
 "cells": [
  {
   "cell_type": "code",
   "execution_count": 1,
   "metadata": {},
   "outputs": [
    {
     "name": "stdout",
     "output_type": "stream",
     "text": [
      "Requirement already satisfied: gTTS in c:\\users\\asus\\appdata\\local\\programs\\python\\python311\\lib\\site-packages (2.3.2)\n",
      "Requirement already satisfied: requests<3,>=2.27 in c:\\users\\asus\\appdata\\local\\programs\\python\\python311\\lib\\site-packages (from gTTS) (2.31.0)\n",
      "Requirement already satisfied: click<8.2,>=7.1 in c:\\users\\asus\\appdata\\local\\programs\\python\\python311\\lib\\site-packages (from gTTS) (8.1.3)\n",
      "Requirement already satisfied: colorama in c:\\users\\asus\\appdata\\local\\programs\\python\\python311\\lib\\site-packages (from click<8.2,>=7.1->gTTS) (0.4.6)\n",
      "Requirement already satisfied: charset-normalizer<4,>=2 in c:\\users\\asus\\appdata\\local\\programs\\python\\python311\\lib\\site-packages (from requests<3,>=2.27->gTTS) (3.1.0)\n",
      "Requirement already satisfied: idna<4,>=2.5 in c:\\users\\asus\\appdata\\local\\programs\\python\\python311\\lib\\site-packages (from requests<3,>=2.27->gTTS) (3.4)\n",
      "Requirement already satisfied: urllib3<3,>=1.21.1 in c:\\users\\asus\\appdata\\local\\programs\\python\\python311\\lib\\site-packages (from requests<3,>=2.27->gTTS) (2.0.3)\n",
      "Requirement already satisfied: certifi>=2017.4.17 in c:\\users\\asus\\appdata\\local\\programs\\python\\python311\\lib\\site-packages (from requests<3,>=2.27->gTTS) (2023.5.7)\n",
      "Note: you may need to restart the kernel to use updated packages.\n"
     ]
    },
    {
     "name": "stderr",
     "output_type": "stream",
     "text": [
      "\n",
      "[notice] A new release of pip is available: 23.3.1 -> 24.2\n",
      "[notice] To update, run: python.exe -m pip install --upgrade pip\n"
     ]
    }
   ],
   "source": [
    "pip install gTTS"
   ]
  },
  {
   "cell_type": "code",
   "execution_count": 2,
   "metadata": {},
   "outputs": [],
   "source": [
    "from tkinter import *\n",
    "from gtts import gTTS"
   ]
  },
  {
   "cell_type": "code",
   "execution_count": 3,
   "metadata": {},
   "outputs": [],
   "source": [
    "import os\n",
    "from tkinter import *\n",
    "from gtts import gTTS\n",
    "\n",
    "# Ana pencere oluşturma\n",
    "root = Tk()\n",
    "\n",
    "# Frame'leri tanımlıyoruz\n",
    "frame1 = Frame(root, bg=\"lightgreen\", height=100)\n",
    "frame1.pack(fill=X)\n",
    "\n",
    "frame2 = Frame(root, bg=\"lightblue\", height=450)\n",
    "frame2.pack(fill=X)\n",
    "\n",
    "# Pencerede gösterilecek label özellikleri\n",
    "label = Label(frame1, text=\"Text to Speech Converter\",\n",
    "              font=(\"Helvetica\", 24, \"bold\"), bg=\"lightgreen\")\n",
    "label.pack(pady=10)\n",
    "\n",
    "label2 = Label(frame1, text=\"by: Mehmet Özgür Gelez\",\n",
    "               font=(\"Helvetica\", 14), bg=\"lightgreen\")\n",
    "label2.pack()\n",
    "\n",
    "label3 = Label(frame2, text=\"Enter the text you want to hear:\",\n",
    "               font=(\"Helvetica\", 16), bg=\"lightblue\")\n",
    "label3.pack(pady=20)\n",
    "\n",
    "# Text alanını oluşturma\n",
    "entry = Entry(frame2, width=50, bd=4, font=14)\n",
    "entry.pack(pady=10)\n",
    "entry.insert(0, \"\")\n",
    "\n",
    "# Texti sese dönüştürecek fonksiyon\n",
    "def play():\n",
    "    language = \"tr\"\n",
    "    myobj = gTTS(text=entry.get(), lang=language, slow=False)\n",
    "    myobj.save(\"text_kaydi.wav\")\n",
    "    os.system(\"text_kaydi.wav\")\n",
    "\n",
    "# Buton tanımlaması\n",
    "btn = Button(frame2, text=\"Convert and Play\",\n",
    "             width=20, pady=10, font=(\"Helvetica\", 14, \"bold\"),\n",
    "             command=play, bg='orange')\n",
    "btn.pack(pady=20)\n",
    "\n",
    "# Pencere başlığı\n",
    "root.title(\"Text to Speech Converter\")\n",
    "\n",
    "# Pencere boyutu\n",
    "root.geometry(\"600x400+350+200\")\n",
    "\n",
    "# GUI'yi çalıştır\n",
    "root.mainloop()\n"
   ]
  }
 ],
 "metadata": {
  "kernelspec": {
   "display_name": "Python 3.9.12 ('base')",
   "language": "python",
   "name": "python3"
  },
  "language_info": {
   "codemirror_mode": {
    "name": "ipython",
    "version": 3
   },
   "file_extension": ".py",
   "mimetype": "text/x-python",
   "name": "python",
   "nbconvert_exporter": "python",
   "pygments_lexer": "ipython3",
   "version": "3.11.4"
  },
  "orig_nbformat": 4,
  "vscode": {
   "interpreter": {
    "hash": "a077222d77dfe082b8f1dd562ad70e458ac2ab76993a0b248ab0476e32e9e8dd"
   }
  }
 },
 "nbformat": 4,
 "nbformat_minor": 2
}
